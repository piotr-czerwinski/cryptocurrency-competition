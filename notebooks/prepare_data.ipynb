{
 "cells": [
  {
   "cell_type": "code",
   "execution_count": 1,
   "metadata": {},
   "outputs": [],
   "source": [
    "import numpy as np\n",
    "import pandas as pd\n",
    "\n",
    "import matplotlib.pyplot as plt\n",
    "import seaborn as sns\n",
    "\n",
    "from tqdm import tqdm_notebook\n",
    "import itertools\n",
    "\n",
    "import helpers as h\n",
    "%matplotlib inline"
   ]
  },
  {
   "cell_type": "code",
   "execution_count": 2,
   "metadata": {},
   "outputs": [],
   "source": [
    "train = pd.read_hdf('../input/crypto_train.h5')\n",
    "test = pd.read_hdf('../input/crypto_test.h5') "
   ]
  },
  {
   "cell_type": "code",
   "execution_count": 3,
   "metadata": {},
   "outputs": [
    {
     "data": {
      "text/html": [
       "<div>\n",
       "<style scoped>\n",
       "    .dataframe tbody tr th:only-of-type {\n",
       "        vertical-align: middle;\n",
       "    }\n",
       "\n",
       "    .dataframe tbody tr th {\n",
       "        vertical-align: top;\n",
       "    }\n",
       "\n",
       "    .dataframe thead th {\n",
       "        text-align: right;\n",
       "    }\n",
       "</style>\n",
       "<table border=\"1\" class=\"dataframe\">\n",
       "  <thead>\n",
       "    <tr style=\"text-align: right;\">\n",
       "      <th></th>\n",
       "      <th>id</th>\n",
       "      <th>datetime</th>\n",
       "      <th>ts</th>\n",
       "      <th>value</th>\n",
       "    </tr>\n",
       "  </thead>\n",
       "  <tbody>\n",
       "    <tr>\n",
       "      <th>0</th>\n",
       "      <td>0</td>\n",
       "      <td>2017-09-30 22:00:00</td>\n",
       "      <td>0</td>\n",
       "      <td>59.744697</td>\n",
       "    </tr>\n",
       "    <tr>\n",
       "      <th>1</th>\n",
       "      <td>1</td>\n",
       "      <td>2017-09-30 23:00:00</td>\n",
       "      <td>0</td>\n",
       "      <td>59.697985</td>\n",
       "    </tr>\n",
       "    <tr>\n",
       "      <th>2</th>\n",
       "      <td>2</td>\n",
       "      <td>2017-10-01 00:00:00</td>\n",
       "      <td>0</td>\n",
       "      <td>59.242129</td>\n",
       "    </tr>\n",
       "    <tr>\n",
       "      <th>3</th>\n",
       "      <td>3</td>\n",
       "      <td>2017-10-01 01:00:00</td>\n",
       "      <td>0</td>\n",
       "      <td>58.624959</td>\n",
       "    </tr>\n",
       "    <tr>\n",
       "      <th>4</th>\n",
       "      <td>4</td>\n",
       "      <td>2017-10-01 02:00:00</td>\n",
       "      <td>0</td>\n",
       "      <td>60.135081</td>\n",
       "    </tr>\n",
       "  </tbody>\n",
       "</table>\n",
       "</div>"
      ],
      "text/plain": [
       "   id            datetime  ts      value\n",
       "0   0 2017-09-30 22:00:00   0  59.744697\n",
       "1   1 2017-09-30 23:00:00   0  59.697985\n",
       "2   2 2017-10-01 00:00:00   0  59.242129\n",
       "3   3 2017-10-01 01:00:00   0  58.624959\n",
       "4   4 2017-10-01 02:00:00   0  60.135081"
      ]
     },
     "execution_count": 3,
     "metadata": {},
     "output_type": "execute_result"
    }
   ],
   "source": [
    "train.head()"
   ]
  },
  {
   "cell_type": "code",
   "execution_count": 4,
   "metadata": {},
   "outputs": [
    {
     "data": {
      "text/plain": [
       "id          False\n",
       "datetime    False\n",
       "ts          False\n",
       "value        True\n",
       "dtype: bool"
      ]
     },
     "execution_count": 4,
     "metadata": {},
     "output_type": "execute_result"
    }
   ],
   "source": [
    "train.isnull().any()"
   ]
  },
  {
   "cell_type": "code",
   "execution_count": 4,
   "metadata": {},
   "outputs": [
    {
     "data": {
      "application/vnd.jupyter.widget-view+json": {
       "model_id": "efb7635ca1a7449b90c2ac3a9d3b32af",
       "version_major": 2,
       "version_minor": 0
      },
      "text/plain": [
       "HBox(children=(IntProgress(value=0, description='ts loop', max=1650), HTML(value='')))"
      ]
     },
     "metadata": {},
     "output_type": "display_data"
    },
    {
     "name": "stdout",
     "output_type": "stream",
     "text": [
      "\n",
      "150\n",
      "[2, 13, 24, 35, 46, 57, 68, 79, 90, 101, 112, 123, 134, 145, 156, 167, 178, 189, 200, 211, 222, 233, 244, 255, 266, 277, 288, 299, 310, 321, 332, 343, 354, 365, 376, 387, 398, 409, 420, 431, 442, 453, 464, 475, 486, 497, 508, 519, 530, 541, 552, 563, 574, 585, 596, 607, 618, 629, 640, 651, 662, 673, 684, 695, 706, 717, 728, 739, 750, 761, 772, 783, 794, 805, 816, 827, 838, 849, 860, 871, 882, 893, 904, 915, 926, 937, 948, 959, 970, 981, 992, 1003, 1014, 1025, 1036, 1047, 1058, 1069, 1080, 1091, 1102, 1113, 1124, 1135, 1146, 1157, 1168, 1179, 1190, 1201, 1212, 1223, 1234, 1245, 1256, 1267, 1278, 1289, 1300, 1311, 1322, 1333, 1344, 1355, 1366, 1377, 1388, 1399, 1410, 1421, 1432, 1443, 1454, 1465, 1476, 1487, 1498, 1509, 1520, 1531, 1542, 1553, 1564, 1575, 1586, 1597, 1608, 1619, 1630, 1641]\n"
     ]
    }
   ],
   "source": [
    "not_continous = list(h.find_continous_series(train))\n",
    "print(len(not_continous))\n",
    "print(not_continous)"
   ]
  },
  {
   "cell_type": "code",
   "execution_count": 5,
   "metadata": {},
   "outputs": [
    {
     "data": {
      "application/vnd.jupyter.widget-view+json": {
       "model_id": "57ab88281ea54bf48d815b70425af516",
       "version_major": 2,
       "version_minor": 0
      },
      "text/plain": [
       "HBox(children=(IntProgress(value=0, description='ts loop', max=1650), HTML(value='')))"
      ]
     },
     "metadata": {},
     "output_type": "display_data"
    },
    {
     "name": "stdout",
     "output_type": "stream",
     "text": [
      "\n",
      "390\n",
      "[2, 6, 10, 24, 28, 32, 35, 39, 43, 46, 50, 54, 57, 61, 65, 68, 72, 76, 79, 83, 87, 90, 94, 98, 101, 105, 109, 123, 127, 131, 134, 138, 142, 167, 171, 175, 189, 193, 197, 200, 204, 208, 211, 215, 219, 222, 226, 230, 233, 237, 241, 244, 248, 252, 255, 259, 263, 266, 270, 274, 277, 281, 285, 288, 292, 296, 299, 303, 307, 310, 314, 318, 321, 325, 329, 332, 336, 340, 343, 347, 351, 354, 358, 362, 365, 369, 373, 376, 380, 384, 387, 391, 395, 398, 402, 406, 409, 413, 417, 420, 424, 428, 431, 435, 439, 453, 457, 461, 464, 468, 472, 475, 479, 483, 497, 501, 505, 508, 512, 516, 519, 523, 527, 530, 534, 538, 541, 545, 549, 552, 556, 560, 563, 567, 571, 574, 578, 582, 585, 589, 593, 596, 600, 604, 607, 611, 615, 618, 622, 626, 629, 633, 637, 640, 644, 648, 651, 655, 659, 662, 666, 670, 673, 677, 681, 684, 688, 692, 695, 699, 703, 706, 710, 714, 728, 732, 736, 750, 754, 758, 761, 765, 769, 783, 787, 791, 794, 798, 802, 805, 809, 813, 816, 820, 824, 827, 831, 835, 849, 853, 857, 860, 864, 868, 871, 875, 879, 882, 886, 890, 893, 897, 901, 904, 908, 912, 915, 919, 923, 926, 930, 934, 948, 952, 956, 959, 963, 967, 992, 996, 1000, 1014, 1018, 1022, 1025, 1029, 1033, 1036, 1040, 1044, 1047, 1051, 1055, 1058, 1062, 1066, 1069, 1073, 1077, 1080, 1084, 1088, 1091, 1095, 1099, 1102, 1106, 1110, 1113, 1117, 1121, 1124, 1128, 1132, 1135, 1139, 1143, 1146, 1150, 1154, 1157, 1161, 1165, 1168, 1172, 1176, 1179, 1183, 1187, 1190, 1194, 1198, 1201, 1205, 1209, 1212, 1216, 1220, 1223, 1227, 1231, 1234, 1238, 1242, 1245, 1249, 1253, 1256, 1260, 1264, 1278, 1282, 1286, 1289, 1293, 1297, 1300, 1304, 1308, 1322, 1326, 1330, 1333, 1337, 1341, 1344, 1348, 1352, 1355, 1359, 1363, 1366, 1370, 1374, 1377, 1381, 1385, 1388, 1392, 1396, 1399, 1403, 1407, 1410, 1414, 1418, 1421, 1425, 1429, 1432, 1436, 1440, 1443, 1447, 1451, 1454, 1458, 1462, 1465, 1469, 1473, 1476, 1480, 1484, 1487, 1491, 1495, 1498, 1502, 1506, 1509, 1513, 1517, 1520, 1524, 1528, 1531, 1535, 1539, 1553, 1557, 1561, 1575, 1579, 1583, 1586, 1590, 1594, 1608, 1612, 1616, 1619, 1623, 1627, 1630, 1634, 1638, 1641, 1645, 1649]\n"
     ]
    }
   ],
   "source": [
    "with_nan = list(h.with_nan_series(train))\n",
    "print(len(with_nan))\n",
    "print(with_nan)"
   ]
  },
  {
   "cell_type": "markdown",
   "metadata": {},
   "source": [
    "#### Filling empty values with interpolation"
   ]
  },
  {
   "cell_type": "code",
   "execution_count": 6,
   "metadata": {},
   "outputs": [],
   "source": [
    "train['value'].interpolate(inplace=True, limit_direction='both')"
   ]
  },
  {
   "cell_type": "code",
   "execution_count": 7,
   "metadata": {},
   "outputs": [
    {
     "data": {
      "application/vnd.jupyter.widget-view+json": {
       "model_id": "cc5fcb60e17f4385b7c3f2b23b5ab8fa",
       "version_major": 2,
       "version_minor": 0
      },
      "text/plain": [
       "HBox(children=(IntProgress(value=0, description='ts loop', max=1650), HTML(value='')))"
      ]
     },
     "metadata": {},
     "output_type": "display_data"
    },
    {
     "name": "stdout",
     "output_type": "stream",
     "text": [
      "\n",
      "0\n",
      "[]\n",
      "is null\n"
     ]
    }
   ],
   "source": [
    "with_nan = list(h.with_nan_series(train))\n",
    "print(len(with_nan))\n",
    "print(with_nan)\n",
    "print('is null'.format(train.isnull().any()))"
   ]
  },
  {
   "cell_type": "markdown",
   "metadata": {},
   "source": [
    "Some timeseries are not continous. I will resample to add missing values."
   ]
  },
  {
   "cell_type": "code",
   "execution_count": 8,
   "metadata": {
    "scrolled": true
   },
   "outputs": [
    {
     "data": {
      "application/vnd.jupyter.widget-view+json": {
       "model_id": "f1c0f4c69d9c4a088ba5828124f2a47a",
       "version_major": 2,
       "version_minor": 0
      },
      "text/plain": [
       "HBox(children=(IntProgress(value=0, description='ts loop', max=1650), HTML(value='')))"
      ]
     },
     "metadata": {},
     "output_type": "display_data"
    },
    {
     "name": "stdout",
     "output_type": "stream",
     "text": [
      "fixing 2\n",
      "fixing 13\n",
      "fixing 24\n",
      "fixing 35\n",
      "fixing 46\n",
      "fixing 57\n",
      "fixing 68\n",
      "fixing 79\n",
      "fixing 90\n",
      "fixing 101\n",
      "fixing 112\n",
      "fixing 123\n",
      "fixing 134\n",
      "fixing 145\n",
      "fixing 156\n",
      "fixing 167\n",
      "fixing 178\n",
      "fixing 189\n",
      "fixing 200\n",
      "fixing 211\n",
      "fixing 222\n",
      "fixing 233\n",
      "fixing 244\n",
      "fixing 255\n",
      "fixing 266\n",
      "fixing 277\n",
      "fixing 288\n",
      "fixing 299\n",
      "fixing 310\n",
      "fixing 321\n",
      "fixing 332\n",
      "fixing 343\n",
      "fixing 354\n",
      "fixing 365\n",
      "fixing 376\n",
      "fixing 387\n",
      "fixing 398\n",
      "fixing 409\n",
      "fixing 420\n",
      "fixing 431\n",
      "fixing 442\n",
      "fixing 453\n",
      "fixing 464\n",
      "fixing 475\n",
      "fixing 486\n",
      "fixing 497\n",
      "fixing 508\n",
      "fixing 519\n",
      "fixing 530\n",
      "fixing 541\n",
      "fixing 552\n",
      "fixing 563\n",
      "fixing 574\n",
      "fixing 585\n",
      "fixing 596\n",
      "fixing 607\n",
      "fixing 618\n",
      "fixing 629\n",
      "fixing 640\n",
      "fixing 651\n",
      "fixing 662\n",
      "fixing 673\n",
      "fixing 684\n",
      "fixing 695\n",
      "fixing 706\n",
      "fixing 717\n",
      "fixing 728\n",
      "fixing 739\n",
      "fixing 750\n",
      "fixing 761\n",
      "fixing 772\n",
      "fixing 783\n",
      "fixing 794\n",
      "fixing 805\n",
      "fixing 816\n",
      "fixing 827\n",
      "fixing 838\n",
      "fixing 849\n",
      "fixing 860\n",
      "fixing 871\n",
      "fixing 882\n",
      "fixing 893\n",
      "fixing 904\n",
      "fixing 915\n",
      "fixing 926\n",
      "fixing 937\n",
      "fixing 948\n",
      "fixing 959\n",
      "fixing 970\n",
      "fixing 981\n",
      "fixing 992\n",
      "fixing 1003\n",
      "fixing 1014\n",
      "fixing 1025\n",
      "fixing 1036\n",
      "fixing 1047\n",
      "fixing 1058\n",
      "fixing 1069\n",
      "fixing 1080\n",
      "fixing 1091\n",
      "fixing 1102\n",
      "fixing 1113\n",
      "fixing 1124\n",
      "fixing 1135\n",
      "fixing 1146\n",
      "fixing 1157\n",
      "fixing 1168\n",
      "fixing 1179\n",
      "fixing 1190\n",
      "fixing 1201\n",
      "fixing 1212\n",
      "fixing 1223\n",
      "fixing 1234\n",
      "fixing 1245\n",
      "fixing 1256\n",
      "fixing 1267\n",
      "fixing 1278\n",
      "fixing 1289\n",
      "fixing 1300\n",
      "fixing 1311\n",
      "fixing 1322\n",
      "fixing 1333\n",
      "fixing 1344\n",
      "fixing 1355\n",
      "fixing 1366\n",
      "fixing 1377\n",
      "fixing 1388\n",
      "fixing 1399\n",
      "fixing 1410\n",
      "fixing 1421\n",
      "fixing 1432\n",
      "fixing 1443\n",
      "fixing 1454\n",
      "fixing 1465\n",
      "fixing 1476\n",
      "fixing 1487\n",
      "fixing 1498\n",
      "fixing 1509\n",
      "fixing 1520\n",
      "fixing 1531\n",
      "fixing 1542\n",
      "fixing 1553\n",
      "fixing 1564\n",
      "fixing 1575\n",
      "fixing 1586\n",
      "fixing 1597\n",
      "fixing 1608\n",
      "fixing 1619\n",
      "fixing 1630\n",
      "fixing 1641\n",
      "\n"
     ]
    }
   ],
   "source": [
    "fixed_train = pd.DataFrame(columns=['datetime', 'ts', 'value'])\n",
    "range_to_process = train.ts.unique()\n",
    "\n",
    "for ts_index in tqdm_notebook(range_to_process, desc='ts loop'):\n",
    "    train_ts = train[train.ts==ts_index]\n",
    "    if h.is_series_continous(train_ts):\n",
    "        fixed_train = fixed_train.append(train_ts[['datetime', 'ts', 'value']], ignore_index=True)\n",
    "    else:\n",
    "        print('fixing {}'.format(ts_index))\n",
    "        train_ts.index = train_ts.datetime\n",
    "        train_ts = train_ts.resample('H').asfreq()\n",
    "        train_ts = train_ts.interpolate()\n",
    "        train_ts.datetime = train_ts.index\n",
    "        fixed_train = fixed_train.append(train_ts[['datetime', 'ts', 'value']], ignore_index=True)\n",
    "\n",
    "fixed_train['ts'] = fixed_train['ts'].astype(int)"
   ]
  },
  {
   "cell_type": "code",
   "execution_count": 9,
   "metadata": {},
   "outputs": [],
   "source": [
    "fixed_train = fixed_train.dropna()"
   ]
  },
  {
   "cell_type": "code",
   "execution_count": 10,
   "metadata": {
    "scrolled": true
   },
   "outputs": [
    {
     "data": {
      "text/html": [
       "<div>\n",
       "<style scoped>\n",
       "    .dataframe tbody tr th:only-of-type {\n",
       "        vertical-align: middle;\n",
       "    }\n",
       "\n",
       "    .dataframe tbody tr th {\n",
       "        vertical-align: top;\n",
       "    }\n",
       "\n",
       "    .dataframe thead th {\n",
       "        text-align: right;\n",
       "    }\n",
       "</style>\n",
       "<table border=\"1\" class=\"dataframe\">\n",
       "  <thead>\n",
       "    <tr style=\"text-align: right;\">\n",
       "      <th></th>\n",
       "      <th>datetime</th>\n",
       "      <th>ts</th>\n",
       "      <th>value</th>\n",
       "    </tr>\n",
       "  </thead>\n",
       "  <tbody>\n",
       "    <tr>\n",
       "      <th>0</th>\n",
       "      <td>2017-09-30 22:00:00</td>\n",
       "      <td>0</td>\n",
       "      <td>59.744697</td>\n",
       "    </tr>\n",
       "    <tr>\n",
       "      <th>1</th>\n",
       "      <td>2017-09-30 23:00:00</td>\n",
       "      <td>0</td>\n",
       "      <td>59.697985</td>\n",
       "    </tr>\n",
       "    <tr>\n",
       "      <th>2</th>\n",
       "      <td>2017-10-01 00:00:00</td>\n",
       "      <td>0</td>\n",
       "      <td>59.242129</td>\n",
       "    </tr>\n",
       "    <tr>\n",
       "      <th>3</th>\n",
       "      <td>2017-10-01 01:00:00</td>\n",
       "      <td>0</td>\n",
       "      <td>58.624959</td>\n",
       "    </tr>\n",
       "    <tr>\n",
       "      <th>4</th>\n",
       "      <td>2017-10-01 02:00:00</td>\n",
       "      <td>0</td>\n",
       "      <td>60.135081</td>\n",
       "    </tr>\n",
       "  </tbody>\n",
       "</table>\n",
       "</div>"
      ],
      "text/plain": [
       "             datetime  ts      value\n",
       "0 2017-09-30 22:00:00   0  59.744697\n",
       "1 2017-09-30 23:00:00   0  59.697985\n",
       "2 2017-10-01 00:00:00   0  59.242129\n",
       "3 2017-10-01 01:00:00   0  58.624959\n",
       "4 2017-10-01 02:00:00   0  60.135081"
      ]
     },
     "execution_count": 10,
     "metadata": {},
     "output_type": "execute_result"
    }
   ],
   "source": [
    "fixed_train.head()"
   ]
  },
  {
   "cell_type": "code",
   "execution_count": 11,
   "metadata": {},
   "outputs": [
    {
     "name": "stdout",
     "output_type": "stream",
     "text": [
      "<class 'pandas.core.frame.DataFrame'>\n",
      "Int64Index: 863850 entries, 0 to 863849\n",
      "Data columns (total 3 columns):\n",
      "datetime    863850 non-null datetime64[ns]\n",
      "ts          863850 non-null int32\n",
      "value       863850 non-null float64\n",
      "dtypes: datetime64[ns](1), float64(1), int32(1)\n",
      "memory usage: 23.1 MB\n"
     ]
    }
   ],
   "source": [
    "fixed_train.info()"
   ]
  },
  {
   "cell_type": "code",
   "execution_count": 12,
   "metadata": {},
   "outputs": [
    {
     "data": {
      "text/plain": [
       "1650"
      ]
     },
     "execution_count": 12,
     "metadata": {},
     "output_type": "execute_result"
    }
   ],
   "source": [
    "len(fixed_train.ts.unique())"
   ]
  },
  {
   "cell_type": "code",
   "execution_count": 13,
   "metadata": {},
   "outputs": [
    {
     "data": {
      "text/plain": [
       "datetime    False\n",
       "ts          False\n",
       "value       False\n",
       "dtype: bool"
      ]
     },
     "execution_count": 13,
     "metadata": {},
     "output_type": "execute_result"
    }
   ],
   "source": [
    "fixed_train.isnull().any()"
   ]
  },
  {
   "cell_type": "code",
   "execution_count": 14,
   "metadata": {
    "scrolled": false
   },
   "outputs": [
    {
     "data": {
      "application/vnd.jupyter.widget-view+json": {
       "model_id": "d1e2839f1b4b46d0a887c3e7133e2812",
       "version_major": 2,
       "version_minor": 0
      },
      "text/plain": [
       "HBox(children=(IntProgress(value=0, description='ts loop', max=1650), HTML(value='')))"
      ]
     },
     "metadata": {},
     "output_type": "display_data"
    },
    {
     "name": "stdout",
     "output_type": "stream",
     "text": [
      "\n",
      "0\n",
      "[]\n"
     ]
    }
   ],
   "source": [
    "not_cont = list(h.find_continous_series(fixed_train))\n",
    "print(len(not_cont))\n",
    "print(not_cont)"
   ]
  },
  {
   "cell_type": "code",
   "execution_count": 15,
   "metadata": {},
   "outputs": [
    {
     "data": {
      "application/vnd.jupyter.widget-view+json": {
       "model_id": "987d7610d7e848b2b5423de363ed5ddc",
       "version_major": 2,
       "version_minor": 0
      },
      "text/plain": [
       "HBox(children=(IntProgress(value=0, description='ts loop', max=1650), HTML(value='')))"
      ]
     },
     "metadata": {},
     "output_type": "display_data"
    },
    {
     "name": "stdout",
     "output_type": "stream",
     "text": [
      "\n",
      "0\n",
      "[]\n"
     ]
    }
   ],
   "source": [
    "with_nan = list(h.with_nan_series(fixed_train))\n",
    "print(len(with_nan))\n",
    "print(with_nan)"
   ]
  },
  {
   "cell_type": "code",
   "execution_count": 16,
   "metadata": {},
   "outputs": [],
   "source": [
    "fixed_train.to_hdf('../input/crypto_fixed_train.h5', 'crypto', index=False) "
   ]
  }
 ],
 "metadata": {
  "kernelspec": {
   "display_name": "Python 3",
   "language": "python",
   "name": "python3"
  },
  "language_info": {
   "codemirror_mode": {
    "name": "ipython",
    "version": 3
   },
   "file_extension": ".py",
   "mimetype": "text/x-python",
   "name": "python",
   "nbconvert_exporter": "python",
   "pygments_lexer": "ipython3",
   "version": "3.7.0"
  }
 },
 "nbformat": 4,
 "nbformat_minor": 2
}
